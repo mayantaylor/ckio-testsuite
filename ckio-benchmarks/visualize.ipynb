{
 "cells": [
  {
   "cell_type": "code",
   "execution_count": 2,
   "metadata": {},
   "outputs": [],
   "source": [
    "import matplotlib.pyplot as plt\n",
    "import matplotlib\n",
    "import numpy as np\n",
    "\n",
    "import pandas as pd\n",
    "matplotlib.rcParams['mathtext.fontset'] = 'stix'\n",
    "matplotlib.rcParams['font.family'] = 'STIXGeneral'\n",
    "matplotlib.rcParams['font.size'] = 14\n",
    "\n",
    "from matplotlib.ticker import ScalarFormatter, LogLocator\n"
   ]
  },
  {
   "cell_type": "code",
   "execution_count": 36,
   "metadata": {},
   "outputs": [],
   "source": [
    "data = \"output.txt\"\n",
    "df = pd.read_csv(data, sep=' ', header=None, names=['nreaders', 'nbc', 'npes', 'nnodes', 'filesize', 'bgtime', 'time'])"
   ]
  },
  {
   "cell_type": "code",
   "execution_count": 37,
   "metadata": {},
   "outputs": [
    {
     "data": {
      "text/plain": [
       "Text(0, 0.5, 'Time (s)')"
      ]
     },
     "execution_count": 37,
     "metadata": {},
     "output_type": "execute_result"
    },
    {
     "data": {
      "image/png": "[encoded data removed]",
      "text/plain": [
       "<Figure size 432x288 with 1 Axes>"
      ]
     },
     "metadata": {
      "needs_background": "light"
     },
     "output_type": "display_data"
    }
   ],
   "source": [
    "# PLOT BUFFER CHARES AGAINST TIME\n",
    "fig, ax = plt.subplots()\n",
    "\n",
    "for readers in [1, 1024]:\n",
    "    # select based on the following parameters\n",
    "    pes = 1\n",
    "    nodes = 1\n",
    "    filesize = 1024\n",
    "\n",
    "    # select and group by\n",
    "    # plot\n",
    "    filtered = df[(df['nreaders'] == readers) & (df['npes'] == pes) & (df['nnodes'] == nodes) & (df['filesize'] == filesize)].groupby(['nbc']).mean()\n",
    "    ax.plot(filtered.index, filtered['time'], marker='o', label='Time')\n",
    "\n",
    "ax.set_xlabel('Number of buffer chares')\n",
    "ax.set_ylabel('Time (s)')\n"
   ]
  }
 ],
 "metadata": {
  "kernelspec": {
   "display_name": "Python 3",
   "language": "python",
   "name": "python3"
  },
  "language_info": {
   "codemirror_mode": {
    "name": "ipython",
    "version": 3
   },
   "file_extension": ".py",
   "mimetype": "text/x-python",
   "name": "python",
   "nbconvert_exporter": "python",
   "pygments_lexer": "ipython3",
   "version": "3.6.8"
  }
 },
 "nbformat": 4,
 "nbformat_minor": 2
}
