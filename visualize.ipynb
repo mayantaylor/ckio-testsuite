{
 "cells": [
  {
   "cell_type": "code",
   "execution_count": 2,
   "metadata": {},
   "outputs": [],
   "source": [
    "import matplotlib.pyplot as plt\n",
    "import numpy as np\n",
    "\n",
    "import pandas as pd"
   ]
  },
  {
   "cell_type": "code",
   "execution_count": null,
   "metadata": {},
   "outputs": [
    {
     "name": "stdout",
     "output_type": "stream",
     "text": [
      "       run1      run2      run3      run4      run5      run6      run7  \\\n",
      "0  0.517537  0.376994  0.543315  1.441621  0.357162  0.554852  0.465708   \n",
      "\n",
      "       run8      run9     run10  \n",
      "0  0.445015  0.425267  0.387792  \n",
      "0    0.320278\n",
      "dtype: float64\n"
     ]
    },
    {
     "name": "stderr",
     "output_type": "stream",
     "text": [
      "/jet/home/mtaylor5/.venv/lib64/python3.6/site-packages/ipykernel_launcher.py:10: ParserWarning: Falling back to the 'python' engine because the 'c' engine does not support regex separators (separators > 1 char and different from '\\s+' are interpreted as regex); you can avoid this warning by specifying engine='python'.\n",
      "  # Remove the CWD from sys.path while we load stuff.\n",
      "/jet/home/mtaylor5/.venv/lib64/python3.6/site-packages/ipykernel_launcher.py:31: MatplotlibDeprecationWarning: The 'basex' parameter of __init__() has been renamed 'base' since Matplotlib 3.3; support for the old name will be dropped two minor releases later.\n"
     ]
    },
    {
     "data": {
      "text/plain": [
       "Text(0.5, 1.0, '8 nodes, 32 cores, 1GB, 256 clients')"
      ]
     },
     "metadata": {},
     "output_type": "display_data"
    },
    {
     "data": {
      "image/png": "[encoded data removed]",
      "text/plain": [
       "<Figure size 432x288 with 1 Axes>"
      ]
     },
     "metadata": {},
     "output_type": "display_data"
    }
   ],
   "source": [
    "\n",
    "### plot basic summary data as BC vs average time (with error bars) ###\n",
    "summary_file = 'summary.csv'\n",
    "\n",
    "# read data in format (chares, 10 runs)\n",
    "summary_data = pd.read_csv(summary_file, sep=' ', header=None)\n",
    "summary_data.columns = ['#BC', 'run1', 'run2', 'run3', 'run4', 'run5', 'run6', 'run7', 'run8', 'run9', 'run10']\n",
    "\n",
    "# plt standard dev error bars\n",
    "plt.errorbar(summary_data['#BC'], summary_data.iloc[:, 1:].mean(axis=1), yerr=summary_data.iloc[:, 1:].std(axis=1), fmt='o')\n",
    "\n",
    "# plot setup\n",
    "plt.xscale('log', basex=2)\n",
    "plt.xlabel('Number of Readers')\n",
    "plt.ylabel('Average Time (over 10 runs)')\n"
   ]
  },
  {
   "cell_type": "code",
   "execution_count": 3,
   "metadata": {},
   "outputs": [
    {
     "name": "stdout",
     "output_type": "stream",
     "text": [
      "       run1      run2      run3      run4      run5      run6      run7  \\\n",
      "0  0.517537  0.376994  0.543315  1.441621  0.357162  0.554852  0.465708   \n",
      "\n",
      "       run8      run9     run10  \n",
      "0  0.445015  0.425267  0.387792  \n",
      "0    0.320278\n",
      "dtype: float64\n"
     ]
    },
    {
     "name": "stderr",
     "output_type": "stream",
     "text": [
      "/jet/home/mtaylor5/.venv/lib64/python3.6/site-packages/ipykernel_launcher.py:10: ParserWarning: Falling back to the 'python' engine because the 'c' engine does not support regex separators (separators > 1 char and different from '\\s+' are interpreted as regex); you can avoid this warning by specifying engine='python'.\n",
      "  # Remove the CWD from sys.path while we load stuff.\n",
      "/jet/home/mtaylor5/.venv/lib64/python3.6/site-packages/ipykernel_launcher.py:31: MatplotlibDeprecationWarning: The 'basex' parameter of __init__() has been renamed 'base' since Matplotlib 3.3; support for the old name will be dropped two minor releases later.\n"
     ]
    },
    {
     "data": {
      "text/plain": [
       "Text(0.5, 1.0, '8 nodes, 32 cores, 1GB, 256 clients')"
      ]
     },
     "execution_count": 3,
     "metadata": {},
     "output_type": "execute_result"
    },
    {
     "data": {
      "image/png": "[encoded data removed]",
      "text/plain": [
       "<Figure size 432x288 with 1 Axes>"
      ]
     },
     "metadata": {
      "needs_background": "light"
     },
     "output_type": "display_data"
    }
   ],
   "source": [
    "# COMPARE MONITOR, OLD CA AND MPI on 8 NODES\n",
    "\n",
    "# read data_new_new into pandas data_newframe from input text file\n",
    "data_new = pd.read_csv('ckio-benchmarks/results/8nodes/32cores/1GB/new/summary.out', sep=' ', header=None)\n",
    "data_new.columns = ['#BC', 'run1', 'run2', 'run3', 'run4', 'run5', 'run6', 'run7', 'run8', 'run9', 'run10']\n",
    "\n",
    "data_old = pd.read_csv('ckio-benchmarks/results/8nodes/32cores/1GB/oldCA/summary.out', sep=' ', header=None)\n",
    "data_old.columns = ['#BC', 'run1', 'run2', 'run3', 'run4', 'run5', 'run6', 'run7', 'run8', 'run9', 'run10']\n",
    "\n",
    "data_mpi = pd.read_csv('mpi-benchmarks/results/run-8nodes-256tasks.out', sep=', ', header=None)\n",
    "data_mpi.columns = ['run1', 'run2', 'run3', 'run4', 'run5', 'run6', 'run7', 'run8', 'run9', 'run10']\n",
    "# divide all the data in data_mpi by 1000\n",
    "\n",
    "data_mpi = data_mpi / 1000\n",
    "\n",
    "print(data_mpi)\n",
    "\n",
    "# plot data_new as #BC on x axis vs average of all runs\n",
    "\n",
    "\n",
    "plt.errorbar(data_new['#BC'], data_new.iloc[:, 1:].mean(axis=1), yerr=data_new.iloc[:, 1:].std(axis=1), fmt='o')\n",
    "plt.errorbar(data_old['#BC'], data_old.iloc[:, 1:].mean(axis=1), yerr=data_old.iloc[:, 1:].std(axis=1), fmt='o')\n",
    "\n",
    "# plot data_mpi as a constant line with value as the average of all column\n",
    "# plot a constant line with value as the average of all columns of data_mpi\n",
    "\n",
    "print(data_mpi.std(axis=1))\n",
    "plt.axhline(y = data_mpi.mean(axis=1).values, color='r', linestyle='--')\n",
    "\n",
    "\n",
    "plt.xscale('log', basex=2)\n",
    "\n",
    "#label this set of points\n",
    "plt.legend(['mpi', 'monitor-yield', 'call after'])\n",
    "# set x and y axis labels and tite\n",
    "plt.xlabel('#BC')\n",
    "plt.ylabel('avg')\n",
    "plt.title('8 nodes, 32 cores, 1GB, 256 clients')"
   ]
  },
  {
   "cell_type": "markdown",
   "metadata": {},
   "source": [
    "COMPARE MONITOR, OLD CA AND MPI on 4 NODES reading 4 GB"
   ]
  },
  {
   "cell_type": "code",
   "execution_count": 4,
   "metadata": {},
   "outputs": [
    {
     "name": "stderr",
     "output_type": "stream",
     "text": [
      "/jet/home/mtaylor5/.venv/lib64/python3.6/site-packages/ipykernel_launcher.py:8: ParserWarning: Falling back to the 'python' engine because the 'c' engine does not support regex separators (separators > 1 char and different from '\\s+' are interpreted as regex); you can avoid this warning by specifying engine='python'.\n",
      "  \n",
      "/jet/home/mtaylor5/.venv/lib64/python3.6/site-packages/ipykernel_launcher.py:22: MatplotlibDeprecationWarning: The 'basex' parameter of __init__() has been renamed 'base' since Matplotlib 3.3; support for the old name will be dropped two minor releases later.\n"
     ]
    },
    {
     "data": {
      "text/plain": [
       "Text(0.5, 1.0, '4 nodes, 32 cores, 4GB, 256 clients')"
      ]
     },
     "execution_count": 4,
     "metadata": {},
     "output_type": "execute_result"
    },
    {
     "data": {
      "image/png": "[encoded data removed]",
      "text/plain": [
       "<Figure size 432x288 with 1 Axes>"
      ]
     },
     "metadata": {
      "needs_background": "light"
     },
     "output_type": "display_data"
    }
   ],
   "source": [
    "# read data_new_new into pandas data_newframe from input text file\n",
    "data_new = pd.read_csv('ckio-benchmarks/results/4nodes/32cores/4GB/new/summary.out', sep=' ', header=None)\n",
    "data_new.columns = ['#BC', 'run1', 'run2', 'run3', 'run4', 'run5', 'run6', 'run7', 'run8', 'run9', 'run10']\n",
    "\n",
    "data_old = pd.read_csv('ckio-benchmarks/results/4nodes/32cores/4GB/oldCA/summary.out', sep=' ', header=None)\n",
    "data_old.columns = ['#BC', 'run1', 'run2', 'run3', 'run4', 'run5', 'run6', 'run7', 'run8', 'run9', 'run10']\n",
    "\n",
    "data_mpi = pd.read_csv('mpi-benchmarks/results/run-4nodes-128tasks.out', sep=', ', header=None)\n",
    "data_mpi.columns = ['run1', 'run2', 'run3', 'run4', 'run5', 'run6', 'run7', 'run8', 'run9', 'run10']\n",
    "# # divide all the data in data_mpi by 1000\n",
    "\n",
    "data_mpi = data_mpi / 1000\n",
    "\n",
    "# print(data_mpi)\n",
    "\n",
    "# plot data_new as #BC on x axis vs average of all runs\n",
    "plt.errorbar(data_new['#BC'], data_new.iloc[:, 1:].mean(axis=1), yerr=data_new.iloc[:, 1:].std(axis=1), fmt='o')\n",
    "plt.errorbar(data_old['#BC'], data_old.iloc[:, 1:].mean(axis=1), yerr=data_old.iloc[:, 1:].std(axis=1), fmt='o')\n",
    "\n",
    "plt.axhline(y = data_mpi.mean(axis=1).values, color='r', linestyle='--')\n",
    "\n",
    "plt.xscale('log', basex=2)\n",
    "plt.legend(['mpi', 'monitor-yield', 'call after'])\n",
    "\n",
    "# set x and y axis labels and titel\n",
    "plt.xlabel('#BC')\n",
    "plt.ylabel('avg')\n",
    "plt.title('4 nodes, 32 cores, 4GB, 256 clients')"
   ]
  },
  {
   "cell_type": "code",
   "execution_count": null,
   "metadata": {},
   "outputs": [],
   "source": []
  }
 ],
 "metadata": {
  "kernelspec": {
   "display_name": "Python 3",
   "language": "python",
   "name": "python3"
  },
  "language_info": {
   "codemirror_mode": {
    "name": "ipython",
    "version": 3
   },
   "file_extension": ".py",
   "mimetype": "text/x-python",
   "name": "python",
   "nbconvert_exporter": "python",
   "pygments_lexer": "ipython3",
   "version": "3.6.8"
  }
 },
 "nbformat": 4,
 "nbformat_minor": 2
}
